{
 "cells": [
  {
   "cell_type": "code",
   "execution_count": 2,
   "metadata": {},
   "outputs": [
    {
     "name": "stdout",
     "output_type": "stream",
     "text": [
      "         date  SAN_BOUN20240501_C1_S1  SAN_BOUN20240501_C1_S2   \n",
      "0  1993-01-01                    2.53                     NaN  \\\n",
      "1  1993-04-01                    2.22                     NaN   \n",
      "2  1993-07-01                    2.03                     NaN   \n",
      "3  1993-10-01                    1.38                     NaN   \n",
      "4  1994-01-01                    1.03                     NaN   \n",
      "\n",
      "   SAN_BOUN20240501_C1_S3  SAN_BOUN20240501_C2_S1  SAN_BOUN20240501_C2_S2   \n",
      "0                     1.6                    0.29                   11.13  \\\n",
      "1                     0.4                    0.32                   11.63   \n",
      "2                     0.7                    0.29                   11.43   \n",
      "3                     0.7                    0.28                   11.30   \n",
      "4                     0.5                    0.32                   11.03   \n",
      "\n",
      "   SAN_BOUN20240501_C3_S1  SAN_BOUN20240501_C3_S2  SAN_BOUN20240501_C3_S3   \n",
      "0                     NaN                     NaN                     NaN  \\\n",
      "1                     NaN                     NaN                     NaN   \n",
      "2                     NaN                     NaN                     NaN   \n",
      "3                     NaN                     NaN                     NaN   \n",
      "4                     NaN                     NaN                     NaN   \n",
      "\n",
      "   SAN_BOUN20240501_C3_S4  ...  SAN_BOUN20240501_C6D_S2   \n",
      "0                     NaN  ...                      NaN  \\\n",
      "1                     NaN  ...                      NaN   \n",
      "2                     NaN  ...                      NaN   \n",
      "3                     NaN  ...                      NaN   \n",
      "4                     NaN  ...                      NaN   \n",
      "\n",
      "   SAN_BOUN20240501_C6D_S3  SAN_BOUN20240501_C6D_S4  SAN_BOUN20240501_C6D_S5   \n",
      "0                      NaN                      NaN                      NaN  \\\n",
      "1                      NaN                      NaN                      NaN   \n",
      "2                      NaN                      NaN                      NaN   \n",
      "3                      NaN                      NaN                      NaN   \n",
      "4                      NaN                      NaN                      NaN   \n",
      "\n",
      "   SAN_BOUN20240501_C6D_S6  SAN_BOUN20240501_C6D_S7  SAN_BOUN20240501_C6D_S8   \n",
      "0                      NaN                      NaN                      NaN  \\\n",
      "1                      NaN                      NaN                      NaN   \n",
      "2                      NaN                      NaN                      NaN   \n",
      "3                      NaN                      NaN                      NaN   \n",
      "4                      NaN                      NaN                      NaN   \n",
      "\n",
      "   SAN_BOUN20240501_C7_S1  SAN_BOUN20240501_C7_S2  SAN_BOUN20240501_C7_S3  \n",
      "0                     NaN                     NaN                     NaN  \n",
      "1                     NaN                     NaN                     NaN  \n",
      "2                     NaN                     NaN                     NaN  \n",
      "3                     NaN                     NaN                     NaN  \n",
      "4                     NaN                     NaN                     NaN  \n",
      "\n",
      "[5 rows x 77 columns]\n"
     ]
    }
   ],
   "source": [
    "import pandas as pd\n",
    "\n",
    "df = pd.read_csv('dataByDate.csv')"
   ]
  }
 ],
 "metadata": {
  "kernelspec": {
   "display_name": "Python 3",
   "language": "python",
   "name": "python3"
  },
  "language_info": {
   "codemirror_mode": {
    "name": "ipython",
    "version": 3
   },
   "file_extension": ".py",
   "mimetype": "text/x-python",
   "name": "python",
   "nbconvert_exporter": "python",
   "pygments_lexer": "ipython3",
   "version": "3.11.1"
  }
 },
 "nbformat": 4,
 "nbformat_minor": 2
}
